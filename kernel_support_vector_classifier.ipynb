{
 "cells": [
  {
   "cell_type": "markdown",
   "metadata": {},
   "source": [
    "## サポートベクトル分類器\n",
    "教師あり分類問題 supervised classification problem\n",
    "\n",
    "### Basic Libraries"
   ]
  },
  {
   "cell_type": "code",
   "execution_count": 1,
   "metadata": {},
   "outputs": [],
   "source": [
    "import pandas as pd \n",
    "import numpy as np\n",
    "import matplotlib.pyplot as plt\n",
    "%matplotlib inline"
   ]
  },
  {
   "cell_type": "markdown",
   "metadata": {},
   "source": [
    "### Libraries for Learning Models\n"
   ]
  },
  {
   "cell_type": "code",
   "execution_count": 2,
   "metadata": {},
   "outputs": [],
   "source": [
    "from sklearn import datasets\n",
    "from sklearn import svm\n",
    "from sklearn.model_selection import train_test_split, cross_val_score"
   ]
  },
  {
   "cell_type": "markdown",
   "metadata": {},
   "source": [
    "### 1. Data Preparation\n",
    "XOR のデータを使用する"
   ]
  },
  {
   "cell_type": "code",
   "execution_count": 13,
   "metadata": {},
   "outputs": [
    {
     "data": {
      "image/png": "[encoded data removed]",
      "text/plain": [
       "<Figure size 432x288 with 1 Axes>"
      ]
     },
     "metadata": {
      "needs_background": "light"
     },
     "output_type": "display_data"
    }
   ],
   "source": [
    "np.random.seed(0)\n",
    "X = np.random.randn(200, 2) # 200個の2次元データ\n",
    "y = np.logical_xor(X[:, 0] >0, X[:, 1]>0) # => True, False\n",
    "y = np.where(y, 1, 0)\n",
    "\n",
    "plt.scatter(X[y==1, 0], X[y==1, 1], c='b', marker='x', label='1')\n",
    "plt.scatter(X[y==0, 0], X[y==0, 1], c='r', marker='s', label='0')\n",
    "plt.legend(loc='best')\n",
    "plt.show()"
   ]
  },
  {
   "cell_type": "markdown",
   "metadata": {},
   "source": [
    "### 4. Training Model\n",
    "Support Vector Machine <br>\n",
    "今回は カーネルの選択が重要になる"
   ]
  },
  {
   "cell_type": "code",
   "execution_count": 14,
   "metadata": {},
   "outputs": [
    {
     "data": {
      "text/plain": [
       "SVC(C=1.0, cache_size=200, class_weight='balanced', coef0=0.0,\n",
       "  decision_function_shape='ovr', degree=3, gamma=0.5, kernel='rbf',\n",
       "  max_iter=-1, probability=False, random_state=0, shrinking=True,\n",
       "  tol=0.001, verbose=False)"
      ]
     },
     "execution_count": 14,
     "metadata": {},
     "output_type": "execute_result"
    }
   ],
   "source": [
    "clf = svm.SVC(kernel='rbf', gamma=1/2, C=1.0, class_weight='balanced', random_state=0)\n",
    "clf.fit(X, y)"
   ]
  },
  {
   "cell_type": "markdown",
   "metadata": {},
   "source": [
    "### 5. Evaluation Data\n",
    "K分割交差検証法を用いて性能評価を行う"
   ]
  },
  {
   "cell_type": "code",
   "execution_count": 15,
   "metadata": {},
   "outputs": [
    {
     "name": "stdout",
     "output_type": "stream",
     "text": [
      "mean scores: 0.944950\n",
      "standard deviation 0.0472709892264494\n"
     ]
    }
   ],
   "source": [
    "scores = cross_val_score(clf, X, y, cv=10) # 分割数10\n",
    "print('mean scores: %f'%scores.mean())\n",
    "print('standard deviation', scores.std())"
   ]
  },
  {
   "cell_type": "markdown",
   "metadata": {},
   "source": [
    "### svm.SVC\n",
    "#### parameters\n",
    "- C: サポートベクトルマシンにおいて誤分類をどれだけ許容するか\n",
    "- kernel: カーネル関数\n",
    "    - linear\n",
    "    - poly\n",
    "    - rbf\n",
    "    - sigmoid\n",
    "    - precomputed\n",
    "- degree: 多項式カーネルを使用した際の次数 default=3\n",
    "- gamma: ガウシアン、 シグモイド, 多項式のカーネル係数 \n",
    "    - auto -> scale(v0.22)\n",
    "- coef0: 多項式とシグモイドの時のカーネル関数の独立項 \n",
    "- shrinking: 逐次最小問題最適化法(SMO: Sequential Minimal Optimization) において shrinking heuristic を使用する or not\n",
    "- probability: if True: predict_proba\n",
    "- tol: 誤差の許容値(学習終了のためのしきい値)\n",
    "- cache_size: キャッシュサイズ 計算時間に影響あり\n",
    "- class_weight: \n",
    "    - balanced\n",
    "- verbose: ログの冗長性\n",
    "- max_iter: 学習エポックの最大数\n",
    "- decision_function_shape:\n",
    "    - ovo: one-vs-one\n",
    "    - ovr: one-vs-rest\n",
    "- random_state: 乱数シード\n",
    "\n",
    "#### attributes\n",
    "- support_: サポートベクトルのインデックス\n",
    "- support_vectors: サポートベクトル\n",
    "- n_support_: サポートベクトル数\n",
    "- dual_coef_: 決定関数の係数\n",
    "- coef_: linear_kernelのみ取得可能\n",
    "- intercept_: 決定関数の定数項"
   ]
  }
 ],
 "metadata": {
  "kernelspec": {
   "display_name": "Python 3",
   "language": "python",
   "name": "python3"
  },
  "language_info": {
   "codemirror_mode": {
    "name": "ipython",
    "version": 3
   },
   "file_extension": ".py",
   "mimetype": "text/x-python",
   "name": "python",
   "nbconvert_exporter": "python",
   "pygments_lexer": "ipython3",
   "version": "3.6.1"
  }
 },
 "nbformat": 4,
 "nbformat_minor": 2
}
