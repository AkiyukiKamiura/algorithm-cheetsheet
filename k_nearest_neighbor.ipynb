{
 "cells": [
  {
   "cell_type": "markdown",
   "metadata": {},
   "source": [
    "## K近傍法 K-Neighbor \n",
    "教師あり分類問題 supervised classification problem\n",
    "\n",
    "\n",
    "\n",
    "### Basic Libraries"
   ]
  },
  {
   "cell_type": "code",
   "execution_count": 9,
   "metadata": {},
   "outputs": [],
   "source": [
    "import pandas as pd \n",
    "import numpy as np\n",
    "import matplotlib.pyplot as plt\n",
    "%matplotlib inline"
   ]
  },
  {
   "cell_type": "markdown",
   "metadata": {},
   "source": [
    "### Libraries for Learning Models"
   ]
  },
  {
   "cell_type": "code",
   "execution_count": 15,
   "metadata": {},
   "outputs": [],
   "source": [
    "from sklearn import neighbors\n",
    "from sklearn import  metrics\n",
    "from sklearn.model_selection import train_test_split, cross_val_score"
   ]
  },
  {
   "cell_type": "markdown",
   "metadata": {},
   "source": [
    "### 1. Data Preparation\n",
    "XOR のデータを使用する"
   ]
  },
  {
   "cell_type": "code",
   "execution_count": 18,
   "metadata": {},
   "outputs": [
    {
     "data": {
      "image/png": "[encoded data removed]",
      "text/plain": [
       "<Figure size 432x288 with 1 Axes>"
      ]
     },
     "metadata": {
      "needs_background": "light"
     },
     "output_type": "display_data"
    }
   ],
   "source": [
    "X = np.random.randn(200, 2) # 200個の2次元データ\n",
    "y = np.logical_xor(X[:, 0] >0, X[:, 1]>0) # => True, False\n",
    "y = np.where(y, 1, 0)\n",
    "\n",
    "plt.scatter(X[y==1, 0], X[y==1, 1], c='b', marker='x', label='1')\n",
    "plt.scatter(X[y==0, 0], X[y==0, 1], c='r', marker='s', label='0')\n",
    "plt.legend(loc='best')\n",
    "plt.show()"
   ]
  },
  {
   "cell_type": "markdown",
   "metadata": {},
   "source": [
    "### 3. Preprocessing Datasets\n",
    "今回は不要"
   ]
  },
  {
   "cell_type": "markdown",
   "metadata": {},
   "source": [
    "### 4. Training Model\n",
    "K-nearest neighbor"
   ]
  },
  {
   "cell_type": "code",
   "execution_count": 19,
   "metadata": {},
   "outputs": [],
   "source": [
    "clf = neighbors.KNeighborsClassifier(5, weights='distance')"
   ]
  },
  {
   "cell_type": "markdown",
   "metadata": {},
   "source": [
    "### 5. Evaluation Data\n",
    "K分割交差検証法を用いて性能評価を行う"
   ]
  },
  {
   "cell_type": "code",
   "execution_count": 21,
   "metadata": {},
   "outputs": [
    {
     "name": "stdout",
     "output_type": "stream",
     "text": [
      "mean scores: 0.929474\n",
      "standard deviation 0.055982783265577866\n"
     ]
    }
   ],
   "source": [
    "scores = cross_val_score(clf, X, y, cv=10) # 分割数10\n",
    "print('mean scores: %f'%scores.mean())\n",
    "print('standard deviation', scores.std())"
   ]
  },
  {
   "cell_type": "markdown",
   "metadata": {},
   "source": [
    "### neighbors.KNeighborsClassifier\n",
    "#### parameters\n",
    "- n_neighbors: 参照する隣接データ数\n",
    "- weights: 隣接データに対する重み付け\n",
    "    - uniform: 一様\n",
    "    - distance: 距離に反比例\n",
    "    - \\[callable\\]: 自分で定義可能\n",
    "- algorithm: 隣接データを探索するためのアルゴリズム\n",
    "    - ball_tree: ボールツリー\n",
    "    - kd_tree: KDTree\n",
    "    - brute: 全探索\n",
    "    - auto\n",
    "- leaf_size: BallTree や KdTree のパラメータ\n",
    "- p: Minkovski 距離のパラメータp,  p=1: manhattan, p=2: euclidean\n",
    "- metric: DistanceMetric クラスの距離尺度を使用可能\n",
    "- metric_params: DistanceMetric クラスに渡すパラメータ\n",
    "- n_jobs: CPU数\n",
    "\n",
    "#### Methods\n",
    "- fit(X, y)\n",
    "- get_params()\n",
    "- kneighbors(\\[X, "
   ]
  }
 ],
 "metadata": {
  "kernelspec": {
   "display_name": "Python 3",
   "language": "python",
   "name": "python3"
  },
  "language_info": {
   "codemirror_mode": {
    "name": "ipython",
    "version": 3
   },
   "file_extension": ".py",
   "mimetype": "text/x-python",
   "name": "python",
   "nbconvert_exporter": "python",
   "pygments_lexer": "ipython3",
   "version": "3.6.1"
  }
 },
 "nbformat": 4,
 "nbformat_minor": 2
}
