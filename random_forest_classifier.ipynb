{
 "cells": [
  {
   "cell_type": "markdown",
   "metadata": {},
   "source": [
    "## ランダムフォレスト分類器\n",
    "教師あり分類問題 supervised classification problem\n",
    "\n",
    "\n",
    "\n",
    "### Basic Libraries"
   ]
  },
  {
   "cell_type": "code",
   "execution_count": 2,
   "metadata": {},
   "outputs": [],
   "source": [
    "import numpy as np\n",
    "import pandas as pd\n",
    "from matplotlib import pyplot as plt\n",
    "%matplotlib inline"
   ]
  },
  {
   "cell_type": "markdown",
   "metadata": {},
   "source": [
    "### Libraries for Machine Learning Algorithm"
   ]
  },
  {
   "cell_type": "code",
   "execution_count": 6,
   "metadata": {},
   "outputs": [],
   "source": [
    "from sklearn import ensemble\n",
    "from sklearn import  metrics\n",
    "from sklearn.model_selection import train_test_split, cross_val_score"
   ]
  },
  {
   "cell_type": "markdown",
   "metadata": {},
   "source": [
    "### 1. Data Preparation\n",
    "XOR のデータを使用する"
   ]
  },
  {
   "cell_type": "code",
   "execution_count": 7,
   "metadata": {},
   "outputs": [
    {
     "data": {
      "image/png": "[encoded data removed]",
      "text/plain": [
       "<Figure size 432x288 with 1 Axes>"
      ]
     },
     "metadata": {
      "needs_background": "light"
     },
     "output_type": "display_data"
    }
   ],
   "source": [
    "X = np.random.randn(200, 2) # 200個の2次元データ\n",
    "y = np.logical_xor(X[:, 0] >0, X[:, 1]>0) # => True, False\n",
    "y = np.where(y, 1, 0)\n",
    "\n",
    "plt.scatter(X[y==1, 0], X[y==1, 1], c='b', marker='x', label='1')\n",
    "plt.scatter(X[y==0, 0], X[y==0, 1], c='r', marker='s', label='0')\n",
    "plt.legend(loc='best')\n",
    "plt.show()"
   ]
  },
  {
   "cell_type": "markdown",
   "metadata": {},
   "source": [
    "### 3. Preprocessing Datasets\n",
    "今回は不要"
   ]
  },
  {
   "cell_type": "markdown",
   "metadata": {},
   "source": [
    "### 4. Training Model\n",
    "ランダムフォレスト"
   ]
  },
  {
   "cell_type": "code",
   "execution_count": 9,
   "metadata": {},
   "outputs": [
    {
     "data": {
      "text/plain": [
       "RandomForestClassifier(bootstrap=True, class_weight='balanced_subsample',\n",
       "            criterion='entropy', max_depth=None, max_features='auto',\n",
       "            max_leaf_nodes=None, min_impurity_decrease=0.0,\n",
       "            min_impurity_split=None, min_samples_leaf=1,\n",
       "            min_samples_split=2, min_weight_fraction_leaf=0.0,\n",
       "            n_estimators=10, n_jobs=2, oob_score=False, random_state=None,\n",
       "            verbose=0, warm_start=False)"
      ]
     },
     "execution_count": 9,
     "metadata": {},
     "output_type": "execute_result"
    }
   ],
   "source": [
    "clf = ensemble.RandomForestClassifier(criterion='entropy', n_estimators=10, n_jobs=2, class_weight='balanced_subsample')\n",
    "clf.fit(X, y)"
   ]
  },
  {
   "cell_type": "markdown",
   "metadata": {},
   "source": [
    "### 5. Evaluation Data\n",
    "K分割交差検証法を用いて性能評価を行う"
   ]
  },
  {
   "cell_type": "code",
   "execution_count": 10,
   "metadata": {},
   "outputs": [
    {
     "name": "stdout",
     "output_type": "stream",
     "text": [
      "mean scores: 0.964449\n",
      "standard deviation 0.04520931088773114\n"
     ]
    }
   ],
   "source": [
    "scores = cross_val_score(clf, X, y, cv=10) # 分割数10\n",
    "print('mean scores: %f'%scores.mean())\n",
    "print('standard deviation', scores.std())"
   ]
  },
  {
   "cell_type": "markdown",
   "metadata": {},
   "source": [
    "トレーニングデータとテストデータに分けて実行"
   ]
  },
  {
   "cell_type": "code",
   "execution_count": 11,
   "metadata": {},
   "outputs": [
    {
     "data": {
      "text/plain": [
       "RandomForestClassifier(bootstrap=True, class_weight='balanced_subsample',\n",
       "            criterion='entropy', max_depth=None, max_features='auto',\n",
       "            max_leaf_nodes=None, min_impurity_decrease=0.0,\n",
       "            min_impurity_split=None, min_samples_leaf=1,\n",
       "            min_samples_split=2, min_weight_fraction_leaf=0.0,\n",
       "            n_estimators=10, n_jobs=2, oob_score=False, random_state=None,\n",
       "            verbose=0, warm_start=False)"
      ]
     },
     "execution_count": 11,
     "metadata": {},
     "output_type": "execute_result"
    }
   ],
   "source": [
    "X_train, X_test, y_train, y_test = train_test_split(X, y, test_size=0.1)\n",
    "clf.fit(X_train, y_train)"
   ]
  },
  {
   "cell_type": "code",
   "execution_count": 14,
   "metadata": {},
   "outputs": [
    {
     "name": "stdout",
     "output_type": "stream",
     "text": [
      "accuracy percentage: 1.000000\n"
     ]
    }
   ],
   "source": [
    "y_test_pred = clf.predict(X_test)\n",
    "score = metrics.accuracy_score(y_test, y_test_pred)\n",
    "print('accuracy percentage: %f'%score)"
   ]
  },
  {
   "cell_type": "markdown",
   "metadata": {},
   "source": [
    "### ensemble.RandomForestClassifier\n",
    "#### parameters\n",
    "- n_estimators: 決定木の数 default=10\n",
    "- criterion: 剪定の基準\n",
    "    - gini: ジニ不純度\n",
    "    - entropy: エントロピー\n",
    "- max_depth:  木の最大の深さ\n",
    "- min_samples_split: 分割数\n",
    "- min_samples_leaf: 分割するための最低のノード数\n",
    "- min_weight_fraction_leaf: \n",
    "- max_features: 分割する際に検査する特徴量の最大数\n",
    "    - \\[integer\\]\n",
    "    - auto: sqrt(n_features)\n",
    "    - sqrt: sqrt(n_features)\n",
    "    - log2: log2(n_features)\n",
    "    - None: n_features\n",
    "- max_leaf_nodes: \n",
    "- min_impurity_decrease: 木の成長に必要な不純度の減少量のしきい値\n",
    "- min_impurity_split: 木の成長を止めるための不純度のしきい値\n",
    "- bootstrap: bootstrap sample を使用するか\n",
    "- oob_score: out of bag 推定を行うかどうか\n",
    "- n_jobs: 計算に使用するCPU数\n",
    "- random_state: 乱数のシード\n",
    "- verbose: ログの冗長性\n",
    "- warm_start: 2回目以降のfit()で以前の木を保持したままforestを構築するか\n",
    "- class_weight: クラスの重み\n",
    "    - balanced: クラスの頻度を考慮した計算式\n",
    "    - balanced_subsample: bootstrap sample におけるクラスの頻度を考慮\n",
    "\n",
    "#### attributes\n",
    "- estimators_: 決定木のリスト\n",
    "- classes_: クラスラベルのリスト or クラスを示す配列のリスト\n",
    "- n_classes_:　クラス数\n",
    "- n_features_: fitが実行された時の特徴量の数\n",
    "- n_outputs_: fit が実行された時の出力の数\n",
    "- feature_importances_:　特徴量の重要性\n",
    "- oob_score_: out-of-bag データで評価した誤り率\n",
    "- oob_decision_function_:　トレーニングセットに out-of-bag 推定を使用した時の決定関数"
   ]
  }
 ],
 "metadata": {
  "kernelspec": {
   "display_name": "Python 3",
   "language": "python",
   "name": "python3"
  },
  "language_info": {
   "codemirror_mode": {
    "name": "ipython",
    "version": 3
   },
   "file_extension": ".py",
   "mimetype": "text/x-python",
   "name": "python",
   "nbconvert_exporter": "python",
   "pygments_lexer": "ipython3",
   "version": "3.6.1"
  }
 },
 "nbformat": 4,
 "nbformat_minor": 2
}
